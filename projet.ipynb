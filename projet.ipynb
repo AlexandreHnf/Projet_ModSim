{
 "cells": [
  {
   "cell_type": "markdown",
   "metadata": {},
   "source": [
    "<center> <h1>[INFO-F305] - Modélisation et Simulation - Projet Octave<br><br>Alexandre HENEFFE<br>Ricardo GOMES RODRIGUES<br><br>Novembre 2018</h1> </center>\n"
   ]
  },
  {
   "cell_type": "markdown",
   "metadata": {},
   "source": [
    "# Introduction\n",
    "Dans le cadre de ce projet, nous sommes amenés à "
   ]
  },
  {
   "cell_type": "markdown",
   "metadata": {},
   "source": [
    "Ci-dessous, nous avons la représentation du système dynamique d'ordre 2 général. Nous pouvons choisir les conditions initiales associées."
   ]
  },
  {
   "cell_type": "code",
   "execution_count": 1,
   "metadata": {},
   "outputs": [],
   "source": [
    "# Représentation du système dynamique d'ordre 2.\n",
    "function [t,x] = system_simulation(A, init)\n",
    "    ode_sys = @(t,x) [A(1,1)*x(1)+A(1,2)*x(2);A(2,1)*x(1)+A(2,2)*x(2)]; # Définition du système\n",
    "    [t,x] = ode23 (ode_sys, [0, 10], init); # Résolution du système\n",
    "endfunction"
   ]
  },
  {
   "cell_type": "markdown",
   "metadata": {},
   "source": [
    "Ci-dessous, nous avons les calculs des droites invariantes: vecteurs propres et leurs trajectoires associées."
   ]
  },
  {
   "cell_type": "code",
   "execution_count": 2,
   "metadata": {},
   "outputs": [],
   "source": [
    "# 2. Dessiner les droites correspondants aux vecteurs propres et le sense des trajectoires associés\n",
    "function [eigenline_1,eigenline_2,V] = compute_eigenlines(A,line_range)\n",
    "    [V,L] = eig(A);\n",
    "    eigenline_1 = (V(2,1)/V(1,1)) * line_range;\n",
    "    eigenline_2 = (V(2,2)/V(1,2)) * line_range;\n",
    "endfunction"
   ]
  },
  {
   "cell_type": "markdown",
   "metadata": {},
   "source": [
    "Ci-dessous, nous avons les calculs des isoclines."
   ]
  },
  {
   "cell_type": "code",
   "execution_count": 3,
   "metadata": {},
   "outputs": [],
   "source": [
    "# 3. Calculer les isoclines\n",
    "function [isocline_1,isocline_2] = compute_isoclines(A,line_range)\n",
    "    isocline_1 = -(A(1,1)/A(1,2)) * line_range;\n",
    "    isocline_2 = -(A(2,1)/A(2,2)) * line_range;\n",
    "endfunction"
   ]
  },
  {
   "cell_type": "markdown",
   "metadata": {},
   "source": [
    "Ci-dessous, nous avons le portrait de phase complet qui contient les droites invariantes, les isoclines et le portrait de phase."
   ]
  },
  {
   "cell_type": "code",
   "execution_count": 4,
   "metadata": {},
   "outputs": [
    {
     "name": "stdout",
     "output_type": "stream",
     "text": [
      "error: 'A' undefined near line 1 column 47\n"
     ]
    }
   ],
   "source": [
    "# 4. Portrait de phase complet\n",
    "function [x1,x2,x1p,x2p] = plot_portrait_phase_complete(A)\n",
    "    #grid for plotting\n",
    "    x1range=-1.5:.1:1.5;\n",
    "    x2range=-1.5:.1:1.5;\n",
    "    [x1,x2] = meshgrid(x1range, x2range);\n",
    "\n",
    "    # Define the system to plot (based on matrix A)\n",
    "    x1p = A(1,1)*x1+A(1,2)*x2;\n",
    "    x2p = A(2,1)*x1+A(2,2)*x2;\n",
    "\n",
    "    #Normalize values for plotting\n",
    "    norms=sqrt(x1p.^2+x2p.^2);\n",
    "    \n",
    "    figure(2)\n",
    "    [eigenline_1,eigenline_2,V] = compute_eigenlines(A,x1range);\n",
    "    [isocline_1,isocline_2] = compute_isoclines(A,x1range);\n",
    "    \n",
    "    # Vector field plot\n",
    "    hold on;\n",
    "    quiver(x1,x2,x1p./norms,x2p./norms,0.5);\n",
    "    # Isoclines\n",
    "    plot(x1range,isocline_1,\"linewidth\",5);\n",
    "    plot(x1range,isocline_2,\"linewidth\",5);\n",
    "    # Vecteurs propres\n",
    "    plot(x1range,eigenline_1,\"linewidth\",5);\n",
    "    plot(x1range,eigenline_2,\"linewidth\",5);\n",
    "    quiver([0;0],[0;0],V(1,:),V(2,:),\"linewidth\",10,\"color\",\"k\");\n",
    "    legend(\"field\",\"v_1\",\"v_2\",\"isocline_1\",\"isocline_2\",\"location\",\"south\",\"orientation\", \"horizontal\");\n",
    "    \n",
    "endfunction\n",
    "\n",
    "A = [1 1;1 1];\n",
    "[x1,x2,x1p,x2p] = plot_portrait_phase_complete(A);"
   ]
  },
  {
   "cell_type": "markdown",
   "metadata": {},
   "source": []
  }
 ],
 "metadata": {
  "kernelspec": {
   "display_name": "Octave",
   "language": "octave",
   "name": "octave"
  },
  "language_info": {
   "file_extension": ".m",
   "help_links": [
    {
     "text": "GNU Octave",
     "url": "https://www.gnu.org/software/octave/support.html"
    },
    {
     "text": "Octave Kernel",
     "url": "https://github.com/Calysto/octave_kernel"
    },
    {
     "text": "MetaKernel Magics",
     "url": "https://github.com/calysto/metakernel/blob/master/metakernel/magics/README.md"
    }
   ],
   "mimetype": "text/x-octave",
   "name": "octave",
   "version": "4.2.2"
  }
 },
 "nbformat": 4,
 "nbformat_minor": 2
}
