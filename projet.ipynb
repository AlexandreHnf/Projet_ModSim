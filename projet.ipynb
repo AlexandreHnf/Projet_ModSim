{
 "cells": [
  {
   "cell_type": "markdown",
   "metadata": {},
   "source": [
    "<center> <h1>[INFO-F305] - Modélisation et Simulation - Projet Octave<br><br>Alexandre HENEFFE<br>Ricardo GOMES RODRIGUES<br><br>Novembre 2018</h1> </center>\n"
   ]
  },
  {
   "cell_type": "markdown",
   "metadata": {},
   "source": [
    "# Introduction\n",
    "Dans le cadre de ce projet, nous sommes amenés à étudier et analyser l'évolution de systèmes dynamiques modélisant l'évolution des sentiments de deux robots w(t) (WALL-E) et e(t) (EVE). La formule suivante représente l'évolution général de leur sentiments.\n",
    "$$\n",
    "    \\dot{R} = AR \\rightarrow{} \\left \\{\n",
    "   \\begin{array}{r c l}\n",
    "      \\dot{w}(t)  & = & a_{11}w(t) + a_{12}e(t) \\\\\n",
    "      \\dot{e}(t)  & = & a_{21}w(t) + a_{22}e(t)\n",
    "   \\end{array}\n",
    "   \\right .\n",
    "$$\n",
    "Nous aurons l'occasion d'étudier plusieurs cas de figures de cette formule."
   ]
  },
  {
   "cell_type": "markdown",
   "metadata": {},
   "source": [
    "# Typologie des systèmes\n",
    "\n",
    "## Cas 1\n",
    "\n",
    "\n",
    "Les sentiments d'EVE ne dépendent pas de WALL-E\n",
    "\n",
    "$$\n",
    "    \\left \\{\n",
    "   \\begin{array}{r c l}\n",
    "      \\dot{w}(t)  & = & aw(t) + be(t) \\\\\n",
    "      \\dot{e}(t)  & = & 0\n",
    "   \\end{array}\n",
    "   \\right .\n",
    "$$\n",
    "\n",
    "$$\n",
    "\\begin{bmatrix}\n",
    "a & b \\\\\n",
    "0 & 0\n",
    "\\end{bmatrix}\n",
    "$$\n",
    "\n",
    "#### Valeurs propres\n",
    "\n",
    "$$ \\lambda_{1,2} = \\frac{a \\pm \\sqrt{a^2}}{2} = \\{a, 0\\}$$ \n",
    "Donc ce sera toujours un système non simple stable/instable.\n",
    "\n",
    "#### Déterminant\n",
    "\n",
    "det(A) = 0 : système non simple : infinité de points d'équilibre\n"
   ]
  },
  {
   "cell_type": "markdown",
   "metadata": {},
   "source": [
    "## Cas 2\n",
    "\n",
    "\n",
    "Les deux automates ont la même dynamique\n",
    "\n",
    "$$\n",
    "    \\left \\{\n",
    "   \\begin{array}{r c l}\n",
    "      \\dot{w}(t)  & = & aw(t) + be(t) \\\\\n",
    "      \\dot{e}(t)  & = & bw(t) + ae(t)\n",
    "   \\end{array}\n",
    "   \\right .\n",
    "$$\n",
    "\n",
    "$$\n",
    "\\begin{bmatrix}\n",
    "a & b \\\\\n",
    "b & a\n",
    "\\end{bmatrix}\n",
    "$$\n",
    "\n",
    "#### Valeurs propres\n",
    "$ \\lambda_{1,2} = \\frac{2a \\pm \\sqrt{4a^2 - 4(-b^2+a^2)}}{2} = a \\pm b$ \n",
    "\n",
    "\n",
    "* Nous aurons toujours des $\\lambda_{1,2}$ réels.\n",
    "* Si a = 0, $\\lambda_{1, 2} = \\pm b$ et donc un système non simple instable/stable\n",
    "* Si b = 0, $\\lambda_{1,2} $ de signes opposés et donc une selle\n",
    "* Si a = b, $\\lambda_{1}$ et/ou $\\lambda_{2}$ = 0 et donc nous aurons un système non simple instable/stable.\n",
    "* Sinon, il peut prendre les autres types possibles (noeud instable, noeud stable, etc..)\n",
    "\n",
    "\n",
    "#### Déterminant\n",
    "\n",
    "Det(A) = $a^2 - b^2$\n",
    "\n",
    "* Si a = b, le déterminant est égal à 0 et nous avons un système simple avec un point d'équilibre en (0,0)\n",
    "* Sinon, le déterminant est différent de 0 et nous avons un système non-simple avec plusieurs points d'équilibre."
   ]
  },
  {
   "cell_type": "markdown",
   "metadata": {},
   "source": [
    "## Cas 3\n",
    "Les deux robots ont une dynamique contrastante\n",
    "\n",
    "$$\n",
    "    \\left \\{\n",
    "   \\begin{array}{r c l}\n",
    "      \\dot{w}(t)  & = & aw(t) + be(t) \\\\\n",
    "      \\dot{e}(t)  & = & -bw(t) + -ae(t)\n",
    "   \\end{array}\n",
    "   \\right .\n",
    "$$\n",
    "\n",
    "$$\n",
    "\\begin{bmatrix}\n",
    "a & b \\\\\n",
    "-b & -a\n",
    "\\end{bmatrix}\n",
    "$$\n",
    "\n",
    "#### Valeurs propres\n",
    "$$ \\lambda_{1,2} = \\frac{0 \\pm \\sqrt{-4(-a^2+b^2}}{2} = \\pm \\sqrt{-a^2-b^2}$$\n",
    "\n",
    "* Si $|b| > |a|$, on a des racines complexes dont le $\\alpha = 0$ et donc nous aurons toujours un centre.\n",
    "* Si $|a| == |b|$, alors nous avons $\\lambda_{1,2} = 0$ et nous aurons un système non simple instable.\n",
    "* Sinon, $|b| < |a|$ et nous aurons $\\lambda_{1,2} \\in \\mathbb{R}$ et le système peut être un des autres types possibles (noeud instable, ...).\n",
    "\n",
    "\n",
    "#### Déterminant\n",
    "\n",
    "det(A) = $-a^2 + b^2$\n",
    "\n",
    "* Si a == b, det(A) = 0 et donc ce sera un système simple et nous aurons un point d'équilibre en (0,0)\n",
    "* Sinon, det(A) sera différent de 0 et on aura un système non-simple ainsi que plusieurs points d'équilibre.\n",
    "\n",
    "\n"
   ]
  },
  {
   "cell_type": "markdown",
   "metadata": {},
   "source": [
    "## Cas 4\n",
    "\n",
    "La dynamique de chaque robot dépend simplement du robot-même\n",
    "\n",
    "$$\n",
    "    \\left \\{\n",
    "   \\begin{array}{r c l}\n",
    "      \\dot{w}(t)  & = & ae(t) \\\\\n",
    "      \\dot{e}(t)  & = & bw(t)\n",
    "   \\end{array}\n",
    "   \\right .\n",
    "$$\n",
    "\n",
    "$$\n",
    "\\begin{bmatrix}\n",
    "0 & a \\\\\n",
    "b & 0\n",
    "\\end{bmatrix}\n",
    "$$\n",
    "\n",
    "#### Valeurs propres\n",
    "$$ \\lambda_{1,2} = \\frac{0 \\pm \\sqrt{-4(-ab)}}{2} = \\pm \\sqrt{ab} $$ \n",
    "* Si a = 0 ou b = 0: $\\lambda_{1,2} = 0$ \\\\\n",
    "* Si a et b sont de signes opposés : $\\lambda_{1,2}$ = complexes conjugués et du coup soit un centre, soit un foyer stable, soit un foyer instable\\\\\n",
    "* Si a et b sont de signes égaux : $\\lambda_{1}$ et $\\lambda_{2}$ de signes opposés et du coup une selle.\n",
    "\n",
    "\n",
    "\n",
    "#### Déterminant\n",
    "\n",
    "Det(A) = -ab\n",
    "\n",
    "* Si a = 0 ou b = 0, Det(A) = 0 et nous avons un système simple et un seul point d'équilibre (0,0)\n",
    "* Sinon, nous avons un système non simple et plusieurs points d'équilibre."
   ]
  },
  {
   "cell_type": "markdown",
   "metadata": {},
   "source": [
    "# Droites invariantes, isoclines, portraits de phase\n",
    "Après avoir analysé paramétriquement les différents systèmes, nous calculons les droites invariantes et isoclines résultantes que nous synthétisons dans un portrait de phase.\n",
    "\n",
    "## Systèmes\n",
    "Ci-dessous, nous avons la représentation du système dynamique d'ordre 2 général. Nous pouvons choisir les conditions initiales associées."
   ]
  },
  {
   "cell_type": "code",
   "execution_count": 1,
   "metadata": {},
   "outputs": [],
   "source": [
    "# 1. Représentation du système dynamique d'ordre 2.\n",
    "function [t,x] = system_simulation(A, init)\n",
    "    ode_sys = @(t,x) [A(1,1)*x(1)+A(1,2)*x(2);A(2,1)*x(1)+A(2,2)*x(2)]; # Définition du système\n",
    "    [t,x] = ode23 (ode_sys, [0, 10], init); # Résolution du système\n",
    "endfunction"
   ]
  },
  {
   "cell_type": "markdown",
   "metadata": {},
   "source": [
    "## Droites invariantes\n",
    "Ci-dessous, nous avons les calculs des droites invariantes: vecteurs propres et leurs trajectoires associées."
   ]
  },
  {
   "cell_type": "code",
   "execution_count": 2,
   "metadata": {},
   "outputs": [],
   "source": [
    "# 2. Dessiner les droites correspondants aux vecteurs propres et le sense des trajectoires associés\n",
    "function [eigenline_1,eigenline_2,V] = compute_eigenlines(A,line_range)\n",
    "    [V,L] = eig(A);\n",
    "    eigenline_1 = (V(2,1)/V(1,1)) * line_range;\n",
    "    eigenline_2 = (V(2,2)/V(1,2)) * line_range;\n",
    "endfunction"
   ]
  },
  {
   "cell_type": "markdown",
   "metadata": {},
   "source": [
    "## Isoclines\n",
    "Ci-dessous, nous avons les calculs des isoclines."
   ]
  },
  {
   "cell_type": "code",
   "execution_count": 3,
   "metadata": {},
   "outputs": [],
   "source": [
    "# 3. Calculer les isoclines\n",
    "function [isocline_1,isocline_2] = compute_isoclines(A,line_range)\n",
    "    isocline_1 = -(A(1,1)/A(1,2)) * line_range;\n",
    "    isocline_2 = -(A(2,1)/A(2,2)) * line_range;\n",
    "endfunction"
   ]
  },
  {
   "cell_type": "markdown",
   "metadata": {},
   "source": [
    "## Portrait de phase\n",
    "Ci-dessous, nous avons le portrait de phase complet qui contient les droites invariantes, les isoclines et le portrait de phase."
   ]
  },
  {
   "cell_type": "code",
   "execution_count": 4,
   "metadata": {},
   "outputs": [
    {
     "data": {
      "image/png": "[encoded data removed]",
      "text/plain": [
       "<IPython.core.display.Image object>"
      ]
     },
     "metadata": {},
     "output_type": "display_data"
    }
   ],
   "source": [
    "# 4. Portrait de phase complet\n",
    "function [x1,x2,x1p,x2p] = plot_portrait_phase_complete(A)\n",
    "    #grid for plotting\n",
    "    x1range=-1.5:.1:1.5;\n",
    "    x2range=-1.5:.1:1.5;\n",
    "    [x1,x2] = meshgrid(x1range, x2range);\n",
    "\n",
    "    # Define the system to plot (based on matrix A)\n",
    "    x1p = A(1,1)*x1+A(1,2)*x2;\n",
    "    x2p = A(2,1)*x1+A(2,2)*x2;\n",
    "\n",
    "    #Normalize values for plotting\n",
    "    norms=sqrt(x1p.^2+x2p.^2);\n",
    "    \n",
    "    figure(2)\n",
    "    [eigenline_1,eigenline_2,V] = compute_eigenlines(A,x1range);\n",
    "    [isocline_1,isocline_2] = compute_isoclines(A,x1range);\n",
    "    \n",
    "    # Vector field plot\n",
    "    hold on;\n",
    "    quiver(x1,x2,x1p./norms,x2p./norms,0.5);\n",
    "    # Isoclines\n",
    "    plot(x1range,isocline_1,\"linewidth\",5);\n",
    "    plot(x1range,isocline_2,\"linewidth\",5);\n",
    "    # Vecteurs propres\n",
    "    plot(x1range,eigenline_1,\"linewidth\",5);\n",
    "    plot(x1range,eigenline_2,\"linewidth\",5);\n",
    "    quiver([0;0],[0;0],V(1,:),V(2,:),\"linewidth\",10,\"color\",\"k\");\n",
    "    legend(\"field\",\"v_1\",\"v_2\",\"isocline_1\",\"isocline_2\",\"location\",\"south\",\"orientation\", \"horizontal\");\n",
    "    \n",
    "endfunction\n",
    "\n",
    "A = [1 1;1 1];\n",
    "[x1,x2,x1p,x2p] = plot_portrait_phase_complete(A);"
   ]
  },
  {
   "cell_type": "markdown",
   "metadata": {},
   "source": []
  }
 ],
 "metadata": {
  "kernelspec": {
   "display_name": "Octave",
   "language": "octave",
   "name": "octave"
  },
  "language_info": {
   "file_extension": ".m",
   "help_links": [
    {
     "text": "GNU Octave",
     "url": "https://www.gnu.org/software/octave/support.html"
    },
    {
     "text": "Octave Kernel",
     "url": "https://github.com/Calysto/octave_kernel"
    },
    {
     "text": "MetaKernel Magics",
     "url": "https://github.com/calysto/metakernel/blob/master/metakernel/magics/README.md"
    }
   ],
   "mimetype": "text/x-octave",
   "name": "octave",
   "version": "4.2.2"
  }
 },
 "nbformat": 4,
 "nbformat_minor": 2
}
